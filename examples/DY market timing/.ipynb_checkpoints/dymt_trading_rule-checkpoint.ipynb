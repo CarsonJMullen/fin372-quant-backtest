{
 "cells": [
  {
   "cell_type": "code",
   "execution_count": 1,
   "metadata": {},
   "outputs": [],
   "source": [
    "import pandas as pd\n",
    "import datetime as dt\n",
    "import numpy as np"
   ]
  },
  {
   "cell_type": "code",
   "execution_count": null,
   "metadata": {},
   "outputs": [],
   "source": [
    "class DYMTTradingRule():\n",
    "    # strategy: hold weight w_big in mkt_rf when dy > dy_cutoff,\n",
    "    # weight w_small in mkt_rf when dy < dy_cutoff\n",
    "    w_big = 1\n",
    "    w_small = 0.25\n",
    "    dy_cutoff = 0.035\n",
    "    \n",
    "    # Assume 100% of portfolio liquidated each month and repurchased with new quantities\n",
    "    \n",
    "    # strategy-specifc columns for trades_df (variables we want to keep track of for subsequent analysis)\n",
    "    # usually the variables that led the strategy to open trade in the first place\n",
    "    # In this case, just dividend yield 'dy'\n",
    "    strategy_specific_trades_df_columns = {'dy': pd.Series([], dtype='float')} \n",
    "    \n",
    "    def __init__(self,portfolio_db):\n",
    "        self.portfolio_db = portfolio_db\n",
    "    \n",
    "    # Regardless of the strategy you are implementing, this method must return\n",
    "    # open_trades_df, close_trades_df\n",
    "    #\n",
    "    # open_trades_df is a DataFrame with all the required trades_df columns plus any custom ones for this strategy\n",
    "    #     each row is a new trade the strategy wants to open\n",
    "    #     method only populates the security_id (index) and quantity required columns, plus any custom columns. Rest remain NaN to be populated elsewhere\n",
    "    # close_trades_df is a DataFrame that is a subset of the rows of portfolio_db.trades_df\n",
    "    #     each row is an exist trade the strategy wants to close\n",
    "    #     we don't need to populate any columns in this function\n",
    "    def compute_trades(self,signal_df):                \n",
    "        # Since we are doing 100% turnover each period, all currently open trades should be closed\n",
    "        close_trades_df = self.portfolio_db.trades_df.loc[ self.portfolio_db.trades_df.loc[:,'close_datetime'].isna() ,: ].copy()\n",
    "\n",
    "        # create empty open_trades_df\n",
    "        open_trades_df = self.empty_trades_df()\n",
    "\n",
    "        # get current dy\n",
    "        current_dy = signal_df['dy'].iloc[-1]\n",
    "        if( current_dy > self.dy_cutoff ):\n",
    "            w_current = self.w_big\n",
    "        else:\n",
    "            w_current = self.w_small\n",
    "\n",
    "        dollars_to_trade = self.portfolio_db.current_nav()*w_current\n",
    "        quantity_to_trade = dollars_to_trade / signal_df['prc'].iloc[-1]\n",
    "\n",
    "        # Add new row to the open_trades_df with quantity and security_id\n",
    "        open_trades_df.loc[0] = {'security_id':'mkt_rf', 'quantity':quantity_to_trade}\n",
    "        \n",
    "        return open_trades_df, close_trades_df\n",
    "    \n",
    "    # Returns an empty trades_df\n",
    "    # Used so we know the right columns to populate when creating a trades_df else\n",
    "    def empty_trades_df(self):\n",
    "        return pd.concat([self.portfolio_db.empty_trades_df(), pd.DataFrame(self.strategy_specific_trades_df_columns)], axis=1)\n",
    "        "
   ]
  },
  {
   "cell_type": "code",
   "execution_count": null,
   "metadata": {},
   "outputs": [],
   "source": []
  }
 ],
 "metadata": {
  "kernelspec": {
   "display_name": "Python 3 (ipykernel)",
   "language": "python",
   "name": "python3"
  },
  "language_info": {
   "codemirror_mode": {
    "name": "ipython",
    "version": 3
   },
   "file_extension": ".py",
   "mimetype": "text/x-python",
   "name": "python",
   "nbconvert_exporter": "python",
   "pygments_lexer": "ipython3",
   "version": "3.12.2"
  }
 },
 "nbformat": 4,
 "nbformat_minor": 4
}
