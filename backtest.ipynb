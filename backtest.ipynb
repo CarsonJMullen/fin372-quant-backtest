{
 "cells": [
  {
   "cell_type": "markdown",
   "metadata": {},
   "source": [
    "# <span style=\"color:green\">Quant Platform</span>"
   ]
  },
  {
   "cell_type": "markdown",
   "metadata": {},
   "source": [
    "The <span style=\"color:green\">*Quant Platform*</span> is a framework for conducting backtests and analyzing the results that can be easily adapted for live trading. Some components needs to be modified or adapted for each strategy being backtested, others can be left alone."
   ]
  },
  {
   "cell_type": "markdown",
   "metadata": {},
   "source": [
    "### Overview of components for <span style=\"color:green\">Quant Platform</span>"
   ]
  },
  {
   "cell_type": "markdown",
   "metadata": {},
   "source": [
    "<span style=\"color:blue\">Blue</span> components require little to no modification for each strategy tested, while <span style=\"color:orange\">orange</span> components do require modification\n",
    "\n",
    "1. <span style=\"color:orange\">Data Processor</span>\n",
    "    - Loads and merges data\n",
    "    - Provides universe of securities and signals for each date\n",
    "1. <span style=\"color:blue\">Portfolio</span>\n",
    "    - Tracks current portfolio and account balance sheet\n",
    "    - Keeps records of all trades/transactions\n",
    "    - Keeps history of NAV and margin requirements\n",
    "1. <span style=\"color:orange\">Trading Rule</span>\n",
    "    - Decides which trades to make given a universe of securities, signals, and current portfolio\n",
    "1. <span style=\"color:blue\">Executor</span>\n",
    "    - \"Submits\" order either hypothetically using historical data or live to a brokerage\n",
    "    - Calculates or retrieves transaction prices accounting for any liquidity costs\n",
    "1. <span style=\"color:blue\">Statistician</span>\n",
    "    - Looks at results of backtest or live trading and computes statistics ($\\alpha$ etc) as well as informative plots (e.g. NAV and margin over time)"
   ]
  },
  {
   "cell_type": "markdown",
   "metadata": {},
   "source": [
    "### Pseudo-code for backtest\n",
    "\n",
    "At a high level, our backtest will:\n",
    "\n",
    "1. Tell the **Data Processor** to load all the necessary data\n",
    "1. For each unique date in the data:\n",
    "    1. Get signal (book and market values of equity in this case) and price data for that date from the **Data Processor**\n",
    "    1. Tell **Portfolio** to update prices based on new data\n",
    "    1. Ask **Trading Rule** to decide which trades to make\n",
    "    1. Tell **Executor** to execute the trades\n",
    "    1. Update **Portfolio** to reflect the executed trades\n",
    "1. Tell **Statistician** to summarize the results"
   ]
  },
  {
   "cell_type": "code",
   "execution_count": 70,
   "metadata": {
    "tags": []
   },
   "outputs": [],
   "source": [
    "# Imports\n",
    "from IPython.display import display, Markdown, Latex, clear_output\n",
    "import numpy as np\n",
    "import pandas as pd"
   ]
  },
  {
   "cell_type": "code",
   "execution_count": 71,
   "metadata": {
    "tags": []
   },
   "outputs": [],
   "source": [
    "# Step 1: \"Run\" the notebooks containing definitions of the specifics of the data, strategy, and post-test statistics we want to compute\n",
    "# Think about this as importing these tools but not using them yet\n",
    "\n",
    "# These tools should be changed depending on the strategy you are testing\n",
    "%run sbf_data_processor.ipynb\n",
    "%run sbf_trading_rule.ipynb\n",
    "\n",
    "# # These tools should remain unchanged across strategies unless you have a good reason to change them\n",
    "%run portfolio_db.ipynb\n",
    "%run backtest_executor.ipynb # if you were live trading a strategy, this would be replace by code that submitted orders etc"
   ]
  },
  {
   "cell_type": "code",
   "execution_count": 72,
   "metadata": {
    "tags": []
   },
   "outputs": [],
   "source": [
    "# Step 2: Create the tools we'll need to do the backtest\n",
    "# These can be customized and changed while keeping the rest of this file (the backtest logic) the same\n",
    "\n",
    "# DO edit this code to make sure that the specifics tools you want for this backtest are chosen here\n",
    "\n",
    "# DO NOT edit the names of the variables, only what's assigned to them. So \n",
    "# good: data_processor = MyNewDataProcessor() \n",
    "# bad: my_new_data_processor = MyNewDataProcessor()\n",
    "\n",
    "# Data processor, in charge of loading and doling out data\n",
    "data_processor = SBFDataProcessor() "
   ]
  },
  {
   "cell_type": "code",
   "execution_count": 74,
   "metadata": {
    "tags": []
   },
   "outputs": [],
   "source": [
    "# Portfolio database, keeps track of all the trades the backtest makes, the strategy NAV, and the current portfolio as we go through the backtest\n",
    "%run portfolio_db.ipynb\n",
    "portfolio_db = PortfolioDB()\n",
    "\n",
    "# Strategy logic, in charge of choosing trades based on current portfolio and data\n",
    "# This exact code would be used for live trading \n",
    "trading_rule = SBFTradingRule(portfolio_db)\n",
    "\n",
    "# Trade executor, in charge of \"executing\" trades the strategy decides on, turning them into transactions and updating the portfolio\n",
    "trade_executor = BacktestExecutor(portfolio_db)\n",
    "\n",
    "# Info about the strategy, used for ex-post statistics and output not the actual backtest\n",
    "strategy_info = {\n",
    "    'brief descriptor': 'bm_dec_ew', \n",
    "    'plot descriptor': 'Value (B/M) Strategy, Equal-Weighted',\n",
    "    'universe': 'Public US equities with accounting data',\n",
    "    'signals': 'Book to market ratio, measured at most recent earnings announcement',\n",
    "    'trading rule': 'Buy top 10% by book-to-market ratio, short bottom 10%, equal-weighted',\n",
    "    'holding period': 'One month',\n",
    "    'periods per year': 12,\n",
    "    'time lag': '1',\n",
    "    'output folder name': 'Output'\n",
    "}\n",
    "\n",
    "# Statistician, used to tabulate and plot statistics after the backtest runs\n",
    "%run backtest_statistician.ipynb\n",
    "statistican = BacktestStatistican(portfolio_db,strategy_info)"
   ]
  },
  {
   "cell_type": "code",
   "execution_count": 75,
   "metadata": {
    "scrolled": true,
    "tags": []
   },
   "outputs": [
    {
     "data": {
      "text/plain": [
       "'2024-04-18: -2.4304137440047923e+18 | 1.2551630372127474e+19'"
      ]
     },
     "metadata": {},
     "output_type": "display_data"
    },
    {
     "ename": "OSError",
     "evalue": "Cannot save file into a non-existent directory: 'Output/bm_dec_ew_202404180337 (1)'",
     "output_type": "error",
     "traceback": [
      "\u001b[0;31m---------------------------------------------------------------------------\u001b[0m",
      "\u001b[0;31mOSError\u001b[0m                                   Traceback (most recent call last)",
      "Cell \u001b[0;32mIn[75], line 39\u001b[0m\n\u001b[1;32m     36\u001b[0m     display( np\u001b[38;5;241m.\u001b[39mdatetime_as_string(np\u001b[38;5;241m.\u001b[39mdatetime64(date), unit\u001b[38;5;241m=\u001b[39m\u001b[38;5;124m'\u001b[39m\u001b[38;5;124mD\u001b[39m\u001b[38;5;124m'\u001b[39m) \u001b[38;5;241m+\u001b[39m \u001b[38;5;124m'\u001b[39m\u001b[38;5;124m: \u001b[39m\u001b[38;5;124m'\u001b[39m \u001b[38;5;241m+\u001b[39m \u001b[38;5;28mstr\u001b[39m(portfolio_db\u001b[38;5;241m.\u001b[39mcurrent_nav()) \u001b[38;5;241m+\u001b[39m \u001b[38;5;124m\"\u001b[39m\u001b[38;5;124m | \u001b[39m\u001b[38;5;124m\"\u001b[39m \u001b[38;5;241m+\u001b[39m \u001b[38;5;28mstr\u001b[39m(portfolio_db\u001b[38;5;241m.\u001b[39mcurrent_margin()))\n\u001b[1;32m     38\u001b[0m \u001b[38;5;66;03m# Now that the loop is done, tell the statistican to output stats\u001b[39;00m\n\u001b[0;32m---> 39\u001b[0m statistican\u001b[38;5;241m.\u001b[39moutput_stats()\n",
      "File \u001b[0;32m/var/folders/q3/hm2wt3010319t7l0hz8w8s4h0000gn/T/ipykernel_3654/1521885554.py:30\u001b[0m, in \u001b[0;36mBacktestStatistican.output_stats\u001b[0;34m(self)\u001b[0m\n\u001b[1;32m     27\u001b[0m \u001b[38;5;28;01mdef\u001b[39;00m \u001b[38;5;21moutput_stats\u001b[39m(\u001b[38;5;28mself\u001b[39m):               \n\u001b[1;32m     28\u001b[0m     \n\u001b[1;32m     29\u001b[0m     \u001b[38;5;66;03m# Output full csvs for account_history and trades\u001b[39;00m\n\u001b[0;32m---> 30\u001b[0m     \u001b[38;5;28mself\u001b[39m\u001b[38;5;241m.\u001b[39mportfolio_db\u001b[38;5;241m.\u001b[39maccount_history_df\u001b[38;5;241m.\u001b[39mto_csv( \u001b[38;5;28mself\u001b[39m\u001b[38;5;241m.\u001b[39moutput_folder_path \u001b[38;5;241m/\u001b[39m \u001b[38;5;124m'\u001b[39m\u001b[38;5;124maccount_history.csv\u001b[39m\u001b[38;5;124m'\u001b[39m )\n\u001b[1;32m     31\u001b[0m     \u001b[38;5;28mself\u001b[39m\u001b[38;5;241m.\u001b[39mportfolio_db\u001b[38;5;241m.\u001b[39mtrades_df\u001b[38;5;241m.\u001b[39mto_csv( \u001b[38;5;28mself\u001b[39m\u001b[38;5;241m.\u001b[39moutput_folder_path \u001b[38;5;241m/\u001b[39m \u001b[38;5;124m'\u001b[39m\u001b[38;5;124mtrades.csv\u001b[39m\u001b[38;5;124m'\u001b[39m )\n\u001b[1;32m     33\u001b[0m     \u001b[38;5;66;03m# Compute and output main stats, which will go in this dictionary\u001b[39;00m\n",
      "File \u001b[0;32m~/anaconda3/lib/python3.11/site-packages/pandas/util/_decorators.py:211\u001b[0m, in \u001b[0;36mdeprecate_kwarg.<locals>._deprecate_kwarg.<locals>.wrapper\u001b[0;34m(*args, **kwargs)\u001b[0m\n\u001b[1;32m    209\u001b[0m     \u001b[38;5;28;01melse\u001b[39;00m:\n\u001b[1;32m    210\u001b[0m         kwargs[new_arg_name] \u001b[38;5;241m=\u001b[39m new_arg_value\n\u001b[0;32m--> 211\u001b[0m \u001b[38;5;28;01mreturn\u001b[39;00m func(\u001b[38;5;241m*\u001b[39margs, \u001b[38;5;241m*\u001b[39m\u001b[38;5;241m*\u001b[39mkwargs)\n",
      "File \u001b[0;32m~/anaconda3/lib/python3.11/site-packages/pandas/core/generic.py:3720\u001b[0m, in \u001b[0;36mNDFrame.to_csv\u001b[0;34m(self, path_or_buf, sep, na_rep, float_format, columns, header, index, index_label, mode, encoding, compression, quoting, quotechar, lineterminator, chunksize, date_format, doublequote, escapechar, decimal, errors, storage_options)\u001b[0m\n\u001b[1;32m   3709\u001b[0m df \u001b[38;5;241m=\u001b[39m \u001b[38;5;28mself\u001b[39m \u001b[38;5;28;01mif\u001b[39;00m \u001b[38;5;28misinstance\u001b[39m(\u001b[38;5;28mself\u001b[39m, ABCDataFrame) \u001b[38;5;28;01melse\u001b[39;00m \u001b[38;5;28mself\u001b[39m\u001b[38;5;241m.\u001b[39mto_frame()\n\u001b[1;32m   3711\u001b[0m formatter \u001b[38;5;241m=\u001b[39m DataFrameFormatter(\n\u001b[1;32m   3712\u001b[0m     frame\u001b[38;5;241m=\u001b[39mdf,\n\u001b[1;32m   3713\u001b[0m     header\u001b[38;5;241m=\u001b[39mheader,\n\u001b[0;32m   (...)\u001b[0m\n\u001b[1;32m   3717\u001b[0m     decimal\u001b[38;5;241m=\u001b[39mdecimal,\n\u001b[1;32m   3718\u001b[0m )\n\u001b[0;32m-> 3720\u001b[0m \u001b[38;5;28;01mreturn\u001b[39;00m DataFrameRenderer(formatter)\u001b[38;5;241m.\u001b[39mto_csv(\n\u001b[1;32m   3721\u001b[0m     path_or_buf,\n\u001b[1;32m   3722\u001b[0m     lineterminator\u001b[38;5;241m=\u001b[39mlineterminator,\n\u001b[1;32m   3723\u001b[0m     sep\u001b[38;5;241m=\u001b[39msep,\n\u001b[1;32m   3724\u001b[0m     encoding\u001b[38;5;241m=\u001b[39mencoding,\n\u001b[1;32m   3725\u001b[0m     errors\u001b[38;5;241m=\u001b[39merrors,\n\u001b[1;32m   3726\u001b[0m     compression\u001b[38;5;241m=\u001b[39mcompression,\n\u001b[1;32m   3727\u001b[0m     quoting\u001b[38;5;241m=\u001b[39mquoting,\n\u001b[1;32m   3728\u001b[0m     columns\u001b[38;5;241m=\u001b[39mcolumns,\n\u001b[1;32m   3729\u001b[0m     index_label\u001b[38;5;241m=\u001b[39mindex_label,\n\u001b[1;32m   3730\u001b[0m     mode\u001b[38;5;241m=\u001b[39mmode,\n\u001b[1;32m   3731\u001b[0m     chunksize\u001b[38;5;241m=\u001b[39mchunksize,\n\u001b[1;32m   3732\u001b[0m     quotechar\u001b[38;5;241m=\u001b[39mquotechar,\n\u001b[1;32m   3733\u001b[0m     date_format\u001b[38;5;241m=\u001b[39mdate_format,\n\u001b[1;32m   3734\u001b[0m     doublequote\u001b[38;5;241m=\u001b[39mdoublequote,\n\u001b[1;32m   3735\u001b[0m     escapechar\u001b[38;5;241m=\u001b[39mescapechar,\n\u001b[1;32m   3736\u001b[0m     storage_options\u001b[38;5;241m=\u001b[39mstorage_options,\n\u001b[1;32m   3737\u001b[0m )\n",
      "File \u001b[0;32m~/anaconda3/lib/python3.11/site-packages/pandas/util/_decorators.py:211\u001b[0m, in \u001b[0;36mdeprecate_kwarg.<locals>._deprecate_kwarg.<locals>.wrapper\u001b[0;34m(*args, **kwargs)\u001b[0m\n\u001b[1;32m    209\u001b[0m     \u001b[38;5;28;01melse\u001b[39;00m:\n\u001b[1;32m    210\u001b[0m         kwargs[new_arg_name] \u001b[38;5;241m=\u001b[39m new_arg_value\n\u001b[0;32m--> 211\u001b[0m \u001b[38;5;28;01mreturn\u001b[39;00m func(\u001b[38;5;241m*\u001b[39margs, \u001b[38;5;241m*\u001b[39m\u001b[38;5;241m*\u001b[39mkwargs)\n",
      "File \u001b[0;32m~/anaconda3/lib/python3.11/site-packages/pandas/io/formats/format.py:1189\u001b[0m, in \u001b[0;36mDataFrameRenderer.to_csv\u001b[0;34m(self, path_or_buf, encoding, sep, columns, index_label, mode, compression, quoting, quotechar, lineterminator, chunksize, date_format, doublequote, escapechar, errors, storage_options)\u001b[0m\n\u001b[1;32m   1168\u001b[0m     created_buffer \u001b[38;5;241m=\u001b[39m \u001b[38;5;28;01mFalse\u001b[39;00m\n\u001b[1;32m   1170\u001b[0m csv_formatter \u001b[38;5;241m=\u001b[39m CSVFormatter(\n\u001b[1;32m   1171\u001b[0m     path_or_buf\u001b[38;5;241m=\u001b[39mpath_or_buf,\n\u001b[1;32m   1172\u001b[0m     lineterminator\u001b[38;5;241m=\u001b[39mlineterminator,\n\u001b[0;32m   (...)\u001b[0m\n\u001b[1;32m   1187\u001b[0m     formatter\u001b[38;5;241m=\u001b[39m\u001b[38;5;28mself\u001b[39m\u001b[38;5;241m.\u001b[39mfmt,\n\u001b[1;32m   1188\u001b[0m )\n\u001b[0;32m-> 1189\u001b[0m csv_formatter\u001b[38;5;241m.\u001b[39msave()\n\u001b[1;32m   1191\u001b[0m \u001b[38;5;28;01mif\u001b[39;00m created_buffer:\n\u001b[1;32m   1192\u001b[0m     \u001b[38;5;28;01massert\u001b[39;00m \u001b[38;5;28misinstance\u001b[39m(path_or_buf, StringIO)\n",
      "File \u001b[0;32m~/anaconda3/lib/python3.11/site-packages/pandas/io/formats/csvs.py:241\u001b[0m, in \u001b[0;36mCSVFormatter.save\u001b[0;34m(self)\u001b[0m\n\u001b[1;32m    237\u001b[0m \u001b[38;5;250m\u001b[39m\u001b[38;5;124;03m\"\"\"\u001b[39;00m\n\u001b[1;32m    238\u001b[0m \u001b[38;5;124;03mCreate the writer & save.\u001b[39;00m\n\u001b[1;32m    239\u001b[0m \u001b[38;5;124;03m\"\"\"\u001b[39;00m\n\u001b[1;32m    240\u001b[0m \u001b[38;5;66;03m# apply compression and byte/text conversion\u001b[39;00m\n\u001b[0;32m--> 241\u001b[0m \u001b[38;5;28;01mwith\u001b[39;00m get_handle(\n\u001b[1;32m    242\u001b[0m     \u001b[38;5;28mself\u001b[39m\u001b[38;5;241m.\u001b[39mfilepath_or_buffer,\n\u001b[1;32m    243\u001b[0m     \u001b[38;5;28mself\u001b[39m\u001b[38;5;241m.\u001b[39mmode,\n\u001b[1;32m    244\u001b[0m     encoding\u001b[38;5;241m=\u001b[39m\u001b[38;5;28mself\u001b[39m\u001b[38;5;241m.\u001b[39mencoding,\n\u001b[1;32m    245\u001b[0m     errors\u001b[38;5;241m=\u001b[39m\u001b[38;5;28mself\u001b[39m\u001b[38;5;241m.\u001b[39merrors,\n\u001b[1;32m    246\u001b[0m     compression\u001b[38;5;241m=\u001b[39m\u001b[38;5;28mself\u001b[39m\u001b[38;5;241m.\u001b[39mcompression,\n\u001b[1;32m    247\u001b[0m     storage_options\u001b[38;5;241m=\u001b[39m\u001b[38;5;28mself\u001b[39m\u001b[38;5;241m.\u001b[39mstorage_options,\n\u001b[1;32m    248\u001b[0m ) \u001b[38;5;28;01mas\u001b[39;00m handles:\n\u001b[1;32m    249\u001b[0m \n\u001b[1;32m    250\u001b[0m     \u001b[38;5;66;03m# Note: self.encoding is irrelevant here\u001b[39;00m\n\u001b[1;32m    251\u001b[0m     \u001b[38;5;28mself\u001b[39m\u001b[38;5;241m.\u001b[39mwriter \u001b[38;5;241m=\u001b[39m csvlib\u001b[38;5;241m.\u001b[39mwriter(\n\u001b[1;32m    252\u001b[0m         handles\u001b[38;5;241m.\u001b[39mhandle,\n\u001b[1;32m    253\u001b[0m         lineterminator\u001b[38;5;241m=\u001b[39m\u001b[38;5;28mself\u001b[39m\u001b[38;5;241m.\u001b[39mlineterminator,\n\u001b[0;32m   (...)\u001b[0m\n\u001b[1;32m    258\u001b[0m         quotechar\u001b[38;5;241m=\u001b[39m\u001b[38;5;28mself\u001b[39m\u001b[38;5;241m.\u001b[39mquotechar,\n\u001b[1;32m    259\u001b[0m     )\n\u001b[1;32m    261\u001b[0m     \u001b[38;5;28mself\u001b[39m\u001b[38;5;241m.\u001b[39m_save()\n",
      "File \u001b[0;32m~/anaconda3/lib/python3.11/site-packages/pandas/io/common.py:734\u001b[0m, in \u001b[0;36mget_handle\u001b[0;34m(path_or_buf, mode, encoding, compression, memory_map, is_text, errors, storage_options)\u001b[0m\n\u001b[1;32m    732\u001b[0m \u001b[38;5;66;03m# Only for write methods\u001b[39;00m\n\u001b[1;32m    733\u001b[0m \u001b[38;5;28;01mif\u001b[39;00m \u001b[38;5;124m\"\u001b[39m\u001b[38;5;124mr\u001b[39m\u001b[38;5;124m\"\u001b[39m \u001b[38;5;129;01mnot\u001b[39;00m \u001b[38;5;129;01min\u001b[39;00m mode \u001b[38;5;129;01mand\u001b[39;00m is_path:\n\u001b[0;32m--> 734\u001b[0m     check_parent_directory(\u001b[38;5;28mstr\u001b[39m(handle))\n\u001b[1;32m    736\u001b[0m \u001b[38;5;28;01mif\u001b[39;00m compression:\n\u001b[1;32m    737\u001b[0m     \u001b[38;5;28;01mif\u001b[39;00m compression \u001b[38;5;241m!=\u001b[39m \u001b[38;5;124m\"\u001b[39m\u001b[38;5;124mzstd\u001b[39m\u001b[38;5;124m\"\u001b[39m:\n\u001b[1;32m    738\u001b[0m         \u001b[38;5;66;03m# compression libraries do not like an explicit text-mode\u001b[39;00m\n",
      "File \u001b[0;32m~/anaconda3/lib/python3.11/site-packages/pandas/io/common.py:597\u001b[0m, in \u001b[0;36mcheck_parent_directory\u001b[0;34m(path)\u001b[0m\n\u001b[1;32m    595\u001b[0m parent \u001b[38;5;241m=\u001b[39m Path(path)\u001b[38;5;241m.\u001b[39mparent\n\u001b[1;32m    596\u001b[0m \u001b[38;5;28;01mif\u001b[39;00m \u001b[38;5;129;01mnot\u001b[39;00m parent\u001b[38;5;241m.\u001b[39mis_dir():\n\u001b[0;32m--> 597\u001b[0m     \u001b[38;5;28;01mraise\u001b[39;00m \u001b[38;5;167;01mOSError\u001b[39;00m(\u001b[38;5;124mrf\u001b[39m\u001b[38;5;124m\"\u001b[39m\u001b[38;5;124mCannot save file into a non-existent directory: \u001b[39m\u001b[38;5;124m'\u001b[39m\u001b[38;5;132;01m{\u001b[39;00mparent\u001b[38;5;132;01m}\u001b[39;00m\u001b[38;5;124m'\u001b[39m\u001b[38;5;124m\"\u001b[39m)\n",
      "\u001b[0;31mOSError\u001b[0m: Cannot save file into a non-existent directory: 'Output/bm_dec_ew_202404180337 (1)'"
     ]
    }
   ],
   "source": [
    "# Step 3: Run actual backtest\n",
    "# Do NOT edit this cell without a very good reason\n",
    "\n",
    "# Add 100 initial cash to our portfolios\n",
    "portfolio_db.add_cash(100)\n",
    "\n",
    "# Get our list of unique dates\n",
    "udates = data_processor.unique_dates()\n",
    "\n",
    "# Main loop for the backtest\n",
    "for date in udates:\n",
    "    # dataframes for the date\n",
    "    signal_df = data_processor.signal_df_for_date(date)\n",
    "    price_df = data_processor.price_df_for_date(date)\n",
    "\n",
    "    # Update prices to reflect the new values after however much time has passed\n",
    "    # Need to dot his first each date because the updated prices may affect our trading rule\n",
    "    portfolio_db.update_prices(price_df)\n",
    "    \n",
    "    # Ask the trading rule what trades we should make\n",
    "    open_trades_df, close_trades_df = trading_rule.compute_trades(signal_df=signal_df)\n",
    "\n",
    "    # apply dates to trades\n",
    "    open_trades_df['open_datetime'] = date\n",
    "    close_trades_df['close_datetime'] = date\n",
    "\n",
    "    # execute trades\n",
    "    trade_executor.execute_opens(open_trades_df=open_trades_df, price_df=price_df)\n",
    "    trade_executor.execute_closes(close_trades_df=close_trades_df, price_df=price_df)    \n",
    "    \n",
    "    # Record account data for today\n",
    "    portfolio_db.record_account_data(price_df=price_df,datetime=date)\n",
    "    \n",
    "    # Do some fancy output tracking our NAV and margin requirement each day\n",
    "    clear_output(wait=True)\n",
    "    display( np.datetime_as_string(np.datetime64(date), unit='D') + ': ' + str(portfolio_db.current_nav()) + \" | \" + str(portfolio_db.current_margin()))\n",
    "    \n",
    "# Now that the loop is done, tell the statistican to output stats\n",
    "statistican.output_stats()"
   ]
  }
 ],
 "metadata": {
  "kernelspec": {
   "display_name": "Python 3",
   "language": "python",
   "name": "python3"
  },
  "language_info": {
   "codemirror_mode": {
    "name": "ipython",
    "version": 3
   },
   "file_extension": ".py",
   "mimetype": "text/x-python",
   "name": "python",
   "nbconvert_exporter": "python",
   "pygments_lexer": "ipython3",
   "version": "3.11.4"
  }
 },
 "nbformat": 4,
 "nbformat_minor": 4
}
