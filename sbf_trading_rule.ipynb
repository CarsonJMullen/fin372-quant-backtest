{
 "cells": [
  {
   "cell_type": "code",
   "execution_count": 1,
   "metadata": {},
   "outputs": [],
   "source": [
    "import pandas as pd\n",
    "import datetime as dt\n",
    "import numpy as np\n",
    "from constants import holding_period\n",
    "import os"
   ]
  },
  {
   "cell_type": "code",
   "execution_count": 2,
   "metadata": {},
   "outputs": [],
   "source": [
    "class SBFTradingRule():\n",
    "    # strategy: hold weight w_big in mkt_rf when dy > dy_cutoff,\n",
    "    # weight w_small in mkt_rf when dy < dy_cutoff\n",
    "\n",
    "    w = 0.0625\n",
    "    \n",
    "    # Assume 100% of portfolio liquidated each month and repurchased with new quantities\n",
    "    \n",
    "    # strategy-specifc columns for trades_df (variables we want to keep track of for subsequent analysis)\n",
    "    # usually the variables that led the strategy to open trade in the first place\n",
    "    # In this case, just size\n",
    "    strategy_specific_trades_df_columns = {'size': pd.Series([], dtype='float')} \n",
    "    \n",
    "    def __init__(self,portfolio_db):\n",
    "        self.portfolio_db = portfolio_db\n",
    "    \n",
    "    # Regardless of the strategy you are implementing, this method must return\n",
    "    # open_trades_df, close_trades_df\n",
    "    #\n",
    "    # open_trades_df is a DataFrame with all the required trades_df columns plus any custom ones for this strategy\n",
    "    #     each row is a new trade the strategy wants to open\n",
    "    #     method only populates the security_id (index) and quantity required columns, plus any custom columns. Rest remain NaN to be populated elsewhere\n",
    "    # close_trades_df is a DataFrame that is a subset of the rows of portfolio_db.trades_df\n",
    "    #     each row is an exist trade the strategy wants to close\n",
    "    #     we don't need to populate any columns in this function\n",
    "    def compute_trades(self,signal_df, date):                \n",
    "        # Since we are not doing 100% turnover each period, not all currently open trades should be closed\n",
    "        # Close trades where enough time has passed\n",
    "        close_trades_df = self.portfolio_db.trades_df[(self.portfolio_db.trades_df['close_datetime'].isna()) & ((date - self.portfolio_db.trades_df['open_datetime']) >= pd.Timedelta(days=holding_period))].copy()\n",
    "        open_trades_df = self.empty_trades_df()\n",
    "\n",
    "        # get current size\n",
    "\n",
    "        if not signal_df.empty:\n",
    "            buys_df = signal_df[signal_df['security_id'] == 'BTC-USD']\n",
    "            sells_df = signal_df[signal_df['security_id'] != 'BTC-USD']\n",
    "\n",
    "            dollars_per_buy = self.portfolio_db.current_nav()*self.w\n",
    "            buys_df['quantity'] = dollars_per_buy / signal_df['prc']\n",
    "\n",
    "            dollars_per_sell = -self.portfolio_db.current_nav()*self.w\n",
    "            sells_df['quantity'] = dollars_per_sell / signal_df['prc']\n",
    "\n",
    "            # Add new row to the open_trades_df with quantity and security_id\n",
    "            open_trades_df = pd.concat([self.empty_trades_df(), buys_df.loc[:,['security_id','quantity']], sells_df.loc[:,['security_id','quantity']] ])\n",
    "        \n",
    "        return open_trades_df, close_trades_df\n",
    "    \n",
    "    # Returns an empty trades_df\n",
    "    # Used so we know the right columns to populate when creating a trades_df else\n",
    "    def empty_trades_df(self):\n",
    "        return pd.concat([self.portfolio_db.empty_trades_df(), pd.DataFrame(self.strategy_specific_trades_df_columns)], axis=1)\n",
    "        "
   ]
  }
 ],
 "metadata": {
  "kernelspec": {
   "display_name": "Python 3 (ipykernel)",
   "language": "python",
   "name": "python3"
  },
  "language_info": {
   "codemirror_mode": {
    "name": "ipython",
    "version": 3
   },
   "file_extension": ".py",
   "mimetype": "text/x-python",
   "name": "python",
   "nbconvert_exporter": "python",
   "pygments_lexer": "ipython3",
   "version": "3.11.4"
  }
 },
 "nbformat": 4,
 "nbformat_minor": 4
}
