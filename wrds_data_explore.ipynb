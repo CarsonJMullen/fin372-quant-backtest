{
 "cells": [
  {
   "cell_type": "code",
   "execution_count": 4,
   "metadata": {},
   "outputs": [
    {
     "name": "stderr",
     "output_type": "stream",
     "text": [
      "/var/folders/q3/hm2wt3010319t7l0hz8w8s4h0000gn/T/ipykernel_11387/732847241.py:3: DtypeWarning: Columns (6,13,17) have mixed types. Specify dtype option on import or set low_memory=False.\n",
      "  wrds = pd.read_csv('data/wrds_bank2.csv')\n"
     ]
    }
   ],
   "source": [
    "import pandas as pd\n",
    "\n",
    "wrds = pd.read_csv('data/wrds_bank2.csv')"
   ]
  },
  {
   "cell_type": "code",
   "execution_count": 8,
   "metadata": {},
   "outputs": [
    {
     "data": {
      "text/plain": [
       "array(['TMP', 'TCB', 'TCF', 'FNB', 'WBS', 'FLIC', 'UBSI', 'CHCO', 'CPF',\n",
       "       'CHFC', 'CBRX', 'JNP', 'WD', 'BKU', 'LCNB', 'NDRO', 'PVL', 'BOTJ',\n",
       "       'HMST', 'HBMD', 'CNOB', 'INBK', 'IBTX', 'CUBI', 'TSC', 'TCFC',\n",
       "       'FRBA', 'TLMR', 'OPB', 'BWFG', 'FMBH', 'CARO', 'ISTR', 'SBCP',\n",
       "       'BNK', 'GNBC', 'CFG', 'GWB', 'VBTX', 'FFWM', nan, 'TBK', 'TFIN',\n",
       "       'FSB', 'NCOM', 'LOB', 'ACBI', 'FGBI', 'SMBK', 'FSBC', 'FHB', 'FBK',\n",
       "       'CATC', 'MCB', 'FNCB', 'BFST', 'STXB', 'CCB', 'BSVN', 'BRBS',\n",
       "       'EBC', 'SNV', 'BCAL', 'FITB', 'RF', 'FFBC', 'SRCE', 'NPBC', 'KEY',\n",
       "       'SBCF', 'STT', 'HBHC', 'HWC', 'TRST', 'RNST', 'UMBF', 'PEBO',\n",
       "       'MSL', 'FDEF', 'PFC', 'CASH', 'QCRH', 'UBSH', 'AUB', 'OSBC', 'VLY',\n",
       "       'ABCB', 'COB', 'GFED', 'IBKC', 'BANR', 'CNBC', 'DCOM', 'SNBC',\n",
       "       'ZION', 'UNTY', 'WTFC', 'CVLY', 'FBC', 'BAM', 'BN', 'MPB', 'BBCN',\n",
       "       'HOPE', 'SBBX', 'CBAN', 'UMPQ', 'SBSI', 'COBZ', 'CCNE', 'WIBC',\n",
       "       'CBU', 'FISI', 'PVTB', 'FNLC', 'EGBN', 'LBAI', 'PGC', 'HAFC',\n",
       "       'CSFL', 'IBCP', 'FCZA', 'CIVB', 'SHBI', 'EVBN', 'MFNC', 'SBFG',\n",
       "       'PWOD', 'UCBI', 'PNFP', 'FCCO', 'HTLF', 'BNCN', 'TCBI', 'UVSP',\n",
       "       'SBNY', 'BOCH', 'XBKS', 'SFST', 'TBBK', 'EFSC', 'PFBC', 'WAL',\n",
       "       'FSGI', 'FBIZ', 'BCBP', 'UCBA', 'FBMS', 'HOMB', 'NCBC', 'SLCT',\n",
       "       'HMPR', 'SSFN', 'MOFG', 'BDGE', 'FCTY', 'FUBC'], dtype=object)"
      ]
     },
     "execution_count": 8,
     "metadata": {},
     "output_type": "execute_result"
    }
   ],
   "source": [
    "wrds['TICKER'].unique()"
   ]
  }
 ],
 "metadata": {
  "kernelspec": {
   "display_name": "Python 3 (ipykernel)",
   "language": "python",
   "name": "python3"
  },
  "language_info": {
   "codemirror_mode": {
    "name": "ipython",
    "version": 3
   },
   "file_extension": ".py",
   "mimetype": "text/x-python",
   "name": "python",
   "nbconvert_exporter": "python",
   "pygments_lexer": "ipython3",
   "version": "3.10.9"
  }
 },
 "nbformat": 4,
 "nbformat_minor": 4
}
